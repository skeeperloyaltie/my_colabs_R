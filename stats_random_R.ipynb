{
  "nbformat": 4,
  "nbformat_minor": 0,
  "metadata": {
    "colab": {
      "name": "stats_random.R",
      "provenance": [],
      "collapsed_sections": [],
      "authorship_tag": "ABX9TyNBGfNZyKRngdCzd8FCU/ik",
      "include_colab_link": true
    },
    "kernelspec": {
      "name": "ir",
      "display_name": "R"
    },
    "language_info": {
      "name": "R"
    }
  },
  "cells": [
    {
      "cell_type": "markdown",
      "metadata": {
        "id": "view-in-github",
        "colab_type": "text"
      },
      "source": [
        "<a href=\"https://colab.research.google.com/github/skeeperloyaltie/my_colabs_R/blob/main/stats_random_R.ipynb\" target=\"_parent\"><img src=\"https://colab.research.google.com/assets/colab-badge.svg\" alt=\"Open In Colab\"/></a>"
      ]
    },
    {
      "cell_type": "markdown",
      "metadata": {
        "id": "qwqOM97VALv2"
      },
      "source": [
        "#Generate Random Data\n",
        "\n",
        "\n",
        "1.  Income (the dependent variable)\n",
        "2. age (18-65)\n",
        "3. educational level (no education, lower secondary, secondary, diploma, university)\n",
        "4. years with current employer \n",
        "5. region (west bank, gaza)\n",
        "6. gender \n",
        "7. marital\n"
      ]
    },
    {
      "cell_type": "code",
      "metadata": {
        "colab": {
          "base_uri": "https://localhost:8080/"
        },
        "id": "lMamIGY5Ct_B",
        "outputId": "427c0afe-7b21-4e4d-acef-a776c7066a2e"
      },
      "source": [
        "# libraries\n",
        "library(janeaustenr)\n",
        "library(dplyr)\n",
        "library(stringr)\n",
        "library(tidytext)\n",
        "library(tidyverse)\n",
        "library(class)\n",
        "library(rpart)\n",
        "library(rpart.plot)\n",
        "library(VIM)\n",
        "library(mice)\n",
        "library(Metrics)"
      ],
      "execution_count": 85,
      "outputs": [
        {
          "output_type": "stream",
          "text": [
            "Installing package into ‘/usr/local/lib/R/site-library’\n",
            "(as ‘lib’ is unspecified)\n",
            "\n"
          ],
          "name": "stderr"
        }
      ]
    },
    {
      "cell_type": "code",
      "metadata": {
        "colab": {
          "base_uri": "https://localhost:8080/",
          "height": 268
        },
        "id": "Vub3MQDi-s2M",
        "outputId": "3c0becab-f934-4867-e2c4-df553d58a8af"
      },
      "source": [
        "dataset <- data.frame(income = sample(45:2000, 100000, replace = TRUE),\n",
        "                      age = sample(18:65, 100000, replace = TRUE),\n",
        "                      ed_level = sample(c(\"No Education\", \"Lower Secondary\", \"Secondary\", \"Diploma\", \"University\"), 100000, replace = TRUE),\n",
        "                      date = sample(2002:2021, 100000, replace = TRUE),\n",
        "                      region = sample(c(\"West bank\", \"Gaza\"), 100000, replace = TRUE),\n",
        "                      gender = sample(c(\"Male\", \"Female\"), 100000, replace=TRUE),\n",
        "                      marital = sample(c(\"Married\", \"Divorced\", \"Single\"), 100000, replace = TRUE))\n",
        "\n",
        "summary(dataset)\n"
      ],
      "execution_count": 36,
      "outputs": [
        {
          "output_type": "display_data",
          "data": {
            "text/plain": [
              "     income          age          ed_level              date     \n",
              " Min.   :  45   Min.   :18.00   Length:100000      Min.   :2002  \n",
              " 1st Qu.: 534   1st Qu.:30.00   Class :character   1st Qu.:2007  \n",
              " Median :1025   Median :41.00   Mode  :character   Median :2012  \n",
              " Mean   :1024   Mean   :41.47                      Mean   :2012  \n",
              " 3rd Qu.:1514   3rd Qu.:53.00                      3rd Qu.:2017  \n",
              " Max.   :2000   Max.   :65.00                      Max.   :2021  \n",
              "    region             gender            marital         \n",
              " Length:100000      Length:100000      Length:100000     \n",
              " Class :character   Class :character   Class :character  \n",
              " Mode  :character   Mode  :character   Mode  :character  \n",
              "                                                         \n",
              "                                                         \n",
              "                                                         "
            ]
          },
          "metadata": {}
        }
      ]
    },
    {
      "cell_type": "code",
      "metadata": {
        "colab": {
          "base_uri": "https://localhost:8080/",
          "height": 279
        },
        "id": "fX3gGQNXLZ0R",
        "outputId": "b761b777-c004-4824-b192-06831ce3ceb6"
      },
      "source": [
        "head(dataset)"
      ],
      "execution_count": 37,
      "outputs": [
        {
          "output_type": "display_data",
          "data": {
            "text/plain": [
              "  income age ed_level     date region    gender marital \n",
              "1 1486   59  University   2007 Gaza      Male   Divorced\n",
              "2 1366   46  University   2015 West bank Male   Divorced\n",
              "3 1863   49  Secondary    2020 Gaza      Male   Single  \n",
              "4 1184   22  No Education 2005 West bank Male   Married \n",
              "5  166   31  No Education 2013 Gaza      Female Single  \n",
              "6 1437   21  No Education 2010 Gaza      Female Single  "
            ],
            "text/latex": "A data.frame: 6 × 7\n\\begin{tabular}{r|lllllll}\n  & income & age & ed\\_level & date & region & gender & marital\\\\\n  & <int> & <int> & <chr> & <int> & <chr> & <chr> & <chr>\\\\\n\\hline\n\t1 & 1486 & 59 & University   & 2007 & Gaza      & Male   & Divorced\\\\\n\t2 & 1366 & 46 & University   & 2015 & West bank & Male   & Divorced\\\\\n\t3 & 1863 & 49 & Secondary    & 2020 & Gaza      & Male   & Single  \\\\\n\t4 & 1184 & 22 & No Education & 2005 & West bank & Male   & Married \\\\\n\t5 &  166 & 31 & No Education & 2013 & Gaza      & Female & Single  \\\\\n\t6 & 1437 & 21 & No Education & 2010 & Gaza      & Female & Single  \\\\\n\\end{tabular}\n",
            "text/markdown": "\nA data.frame: 6 × 7\n\n| <!--/--> | income &lt;int&gt; | age &lt;int&gt; | ed_level &lt;chr&gt; | date &lt;int&gt; | region &lt;chr&gt; | gender &lt;chr&gt; | marital &lt;chr&gt; |\n|---|---|---|---|---|---|---|---|\n| 1 | 1486 | 59 | University   | 2007 | Gaza      | Male   | Divorced |\n| 2 | 1366 | 46 | University   | 2015 | West bank | Male   | Divorced |\n| 3 | 1863 | 49 | Secondary    | 2020 | Gaza      | Male   | Single   |\n| 4 | 1184 | 22 | No Education | 2005 | West bank | Male   | Married  |\n| 5 |  166 | 31 | No Education | 2013 | Gaza      | Female | Single   |\n| 6 | 1437 | 21 | No Education | 2010 | Gaza      | Female | Single   |\n\n",
            "text/html": [
              "<table class=\"dataframe\">\n",
              "<caption>A data.frame: 6 × 7</caption>\n",
              "<thead>\n",
              "\t<tr><th></th><th scope=col>income</th><th scope=col>age</th><th scope=col>ed_level</th><th scope=col>date</th><th scope=col>region</th><th scope=col>gender</th><th scope=col>marital</th></tr>\n",
              "\t<tr><th></th><th scope=col>&lt;int&gt;</th><th scope=col>&lt;int&gt;</th><th scope=col>&lt;chr&gt;</th><th scope=col>&lt;int&gt;</th><th scope=col>&lt;chr&gt;</th><th scope=col>&lt;chr&gt;</th><th scope=col>&lt;chr&gt;</th></tr>\n",
              "</thead>\n",
              "<tbody>\n",
              "\t<tr><th scope=row>1</th><td>1486</td><td>59</td><td>University  </td><td>2007</td><td>Gaza     </td><td>Male  </td><td>Divorced</td></tr>\n",
              "\t<tr><th scope=row>2</th><td>1366</td><td>46</td><td>University  </td><td>2015</td><td>West bank</td><td>Male  </td><td>Divorced</td></tr>\n",
              "\t<tr><th scope=row>3</th><td>1863</td><td>49</td><td>Secondary   </td><td>2020</td><td>Gaza     </td><td>Male  </td><td>Single  </td></tr>\n",
              "\t<tr><th scope=row>4</th><td>1184</td><td>22</td><td>No Education</td><td>2005</td><td>West bank</td><td>Male  </td><td>Married </td></tr>\n",
              "\t<tr><th scope=row>5</th><td> 166</td><td>31</td><td>No Education</td><td>2013</td><td>Gaza     </td><td>Female</td><td>Single  </td></tr>\n",
              "\t<tr><th scope=row>6</th><td>1437</td><td>21</td><td>No Education</td><td>2010</td><td>Gaza     </td><td>Female</td><td>Single  </td></tr>\n",
              "</tbody>\n",
              "</table>\n"
            ]
          },
          "metadata": {}
        }
      ]
    },
    {
      "cell_type": "code",
      "metadata": {
        "colab": {
          "base_uri": "https://localhost:8080/"
        },
        "id": "0AAQLZjkRbSL",
        "outputId": "da6db5b3-415e-4ecb-d752-767c0e97cedd"
      },
      "source": [
        "# Column Ymiss\n",
        "dataset <- dataset %>% \n",
        "  mutate (Ymiss = case_when(\n",
        "    income == 50 ~ 200,\n",
        "    income == 100 ~ NA_real_,\n",
        "    TRUE ~ as.numeric(income)))\n",
        "\n",
        "str(dataset)\n"
      ],
      "execution_count": 38,
      "outputs": [
        {
          "output_type": "stream",
          "text": [
            "'data.frame':\t100000 obs. of  8 variables:\n",
            " $ income  : int  1486 1366 1863 1184 166 1437 1688 469 412 1441 ...\n",
            " $ age     : int  59 46 49 22 31 21 24 37 18 51 ...\n",
            " $ ed_level: chr  \"University\" \"University\" \"Secondary\" \"No Education\" ...\n",
            " $ date    : int  2007 2015 2020 2005 2013 2010 2002 2004 2021 2021 ...\n",
            " $ region  : chr  \"Gaza\" \"West bank\" \"Gaza\" \"West bank\" ...\n",
            " $ gender  : chr  \"Male\" \"Male\" \"Male\" \"Male\" ...\n",
            " $ marital : chr  \"Divorced\" \"Divorced\" \"Single\" \"Married\" ...\n",
            " $ Ymiss   : num  1486 1366 1863 1184 166 ...\n"
          ],
          "name": "stdout"
        }
      ]
    },
    {
      "cell_type": "code",
      "metadata": {
        "colab": {
          "base_uri": "https://localhost:8080/",
          "height": 279
        },
        "id": "dpVBiej5WzsL",
        "outputId": "b8ecc504-09d8-42bf-b9e7-ea24a2e6a733"
      },
      "source": [
        "# Replace 25 % with Nas\n",
        "\n",
        "dataset <- dataset %>% \n",
        "    mutate(Ymiss = replace(Ymiss, which(Ymiss<1500), NA))\n",
        "\n",
        "head(dataset)"
      ],
      "execution_count": 39,
      "outputs": [
        {
          "output_type": "display_data",
          "data": {
            "text/plain": [
              "  income age ed_level     date region    gender marital  Ymiss\n",
              "1 1486   59  University   2007 Gaza      Male   Divorced   NA \n",
              "2 1366   46  University   2015 West bank Male   Divorced   NA \n",
              "3 1863   49  Secondary    2020 Gaza      Male   Single   1863 \n",
              "4 1184   22  No Education 2005 West bank Male   Married    NA \n",
              "5  166   31  No Education 2013 Gaza      Female Single     NA \n",
              "6 1437   21  No Education 2010 Gaza      Female Single     NA "
            ],
            "text/latex": "A data.frame: 6 × 8\n\\begin{tabular}{r|llllllll}\n  & income & age & ed\\_level & date & region & gender & marital & Ymiss\\\\\n  & <int> & <int> & <chr> & <int> & <chr> & <chr> & <chr> & <dbl>\\\\\n\\hline\n\t1 & 1486 & 59 & University   & 2007 & Gaza      & Male   & Divorced &   NA\\\\\n\t2 & 1366 & 46 & University   & 2015 & West bank & Male   & Divorced &   NA\\\\\n\t3 & 1863 & 49 & Secondary    & 2020 & Gaza      & Male   & Single   & 1863\\\\\n\t4 & 1184 & 22 & No Education & 2005 & West bank & Male   & Married  &   NA\\\\\n\t5 &  166 & 31 & No Education & 2013 & Gaza      & Female & Single   &   NA\\\\\n\t6 & 1437 & 21 & No Education & 2010 & Gaza      & Female & Single   &   NA\\\\\n\\end{tabular}\n",
            "text/markdown": "\nA data.frame: 6 × 8\n\n| <!--/--> | income &lt;int&gt; | age &lt;int&gt; | ed_level &lt;chr&gt; | date &lt;int&gt; | region &lt;chr&gt; | gender &lt;chr&gt; | marital &lt;chr&gt; | Ymiss &lt;dbl&gt; |\n|---|---|---|---|---|---|---|---|---|\n| 1 | 1486 | 59 | University   | 2007 | Gaza      | Male   | Divorced |   NA |\n| 2 | 1366 | 46 | University   | 2015 | West bank | Male   | Divorced |   NA |\n| 3 | 1863 | 49 | Secondary    | 2020 | Gaza      | Male   | Single   | 1863 |\n| 4 | 1184 | 22 | No Education | 2005 | West bank | Male   | Married  |   NA |\n| 5 |  166 | 31 | No Education | 2013 | Gaza      | Female | Single   |   NA |\n| 6 | 1437 | 21 | No Education | 2010 | Gaza      | Female | Single   |   NA |\n\n",
            "text/html": [
              "<table class=\"dataframe\">\n",
              "<caption>A data.frame: 6 × 8</caption>\n",
              "<thead>\n",
              "\t<tr><th></th><th scope=col>income</th><th scope=col>age</th><th scope=col>ed_level</th><th scope=col>date</th><th scope=col>region</th><th scope=col>gender</th><th scope=col>marital</th><th scope=col>Ymiss</th></tr>\n",
              "\t<tr><th></th><th scope=col>&lt;int&gt;</th><th scope=col>&lt;int&gt;</th><th scope=col>&lt;chr&gt;</th><th scope=col>&lt;int&gt;</th><th scope=col>&lt;chr&gt;</th><th scope=col>&lt;chr&gt;</th><th scope=col>&lt;chr&gt;</th><th scope=col>&lt;dbl&gt;</th></tr>\n",
              "</thead>\n",
              "<tbody>\n",
              "\t<tr><th scope=row>1</th><td>1486</td><td>59</td><td>University  </td><td>2007</td><td>Gaza     </td><td>Male  </td><td>Divorced</td><td>  NA</td></tr>\n",
              "\t<tr><th scope=row>2</th><td>1366</td><td>46</td><td>University  </td><td>2015</td><td>West bank</td><td>Male  </td><td>Divorced</td><td>  NA</td></tr>\n",
              "\t<tr><th scope=row>3</th><td>1863</td><td>49</td><td>Secondary   </td><td>2020</td><td>Gaza     </td><td>Male  </td><td>Single  </td><td>1863</td></tr>\n",
              "\t<tr><th scope=row>4</th><td>1184</td><td>22</td><td>No Education</td><td>2005</td><td>West bank</td><td>Male  </td><td>Married </td><td>  NA</td></tr>\n",
              "\t<tr><th scope=row>5</th><td> 166</td><td>31</td><td>No Education</td><td>2013</td><td>Gaza     </td><td>Female</td><td>Single  </td><td>  NA</td></tr>\n",
              "\t<tr><th scope=row>6</th><td>1437</td><td>21</td><td>No Education</td><td>2010</td><td>Gaza     </td><td>Female</td><td>Single  </td><td>  NA</td></tr>\n",
              "</tbody>\n",
              "</table>\n"
            ]
          },
          "metadata": {}
        }
      ]
    },
    {
      "cell_type": "code",
      "metadata": {
        "colab": {
          "base_uri": "https://localhost:8080/",
          "height": 304
        },
        "id": "RGoNWDe3XxZx",
        "outputId": "cf25e5f3-ae21-4132-b159-961fe1b22ef7"
      },
      "source": [
        "summary(dataset)"
      ],
      "execution_count": 40,
      "outputs": [
        {
          "output_type": "display_data",
          "data": {
            "text/plain": [
              "     income          age          ed_level              date     \n",
              " Min.   :  45   Min.   :18.00   Length:100000      Min.   :2002  \n",
              " 1st Qu.: 534   1st Qu.:30.00   Class :character   1st Qu.:2007  \n",
              " Median :1025   Median :41.00   Mode  :character   Median :2012  \n",
              " Mean   :1024   Mean   :41.47                      Mean   :2012  \n",
              " 3rd Qu.:1514   3rd Qu.:53.00                      3rd Qu.:2017  \n",
              " Max.   :2000   Max.   :65.00                      Max.   :2021  \n",
              "                                                                 \n",
              "    region             gender            marital              Ymiss      \n",
              " Length:100000      Length:100000      Length:100000      Min.   :1500   \n",
              " Class :character   Class :character   Class :character   1st Qu.:1624   \n",
              " Mode  :character   Mode  :character   Mode  :character   Median :1751   \n",
              "                                                          Mean   :1750   \n",
              "                                                          3rd Qu.:1876   \n",
              "                                                          Max.   :2000   \n",
              "                                                          NA's   :74243  "
            ]
          },
          "metadata": {}
        }
      ]
    },
    {
      "cell_type": "code",
      "metadata": {
        "colab": {
          "base_uri": "https://localhost:8080/"
        },
        "id": "IfvTlpdJX06G",
        "outputId": "50b6c883-1dc5-4be1-b290-29c11ae97bd9"
      },
      "source": [
        "str(dataset)"
      ],
      "execution_count": 41,
      "outputs": [
        {
          "output_type": "stream",
          "text": [
            "'data.frame':\t100000 obs. of  8 variables:\n",
            " $ income  : int  1486 1366 1863 1184 166 1437 1688 469 412 1441 ...\n",
            " $ age     : int  59 46 49 22 31 21 24 37 18 51 ...\n",
            " $ ed_level: chr  \"University\" \"University\" \"Secondary\" \"No Education\" ...\n",
            " $ date    : int  2007 2015 2020 2005 2013 2010 2002 2004 2021 2021 ...\n",
            " $ region  : chr  \"Gaza\" \"West bank\" \"Gaza\" \"West bank\" ...\n",
            " $ gender  : chr  \"Male\" \"Male\" \"Male\" \"Male\" ...\n",
            " $ marital : chr  \"Divorced\" \"Divorced\" \"Single\" \"Married\" ...\n",
            " $ Ymiss   : num  NA NA 1863 NA NA ...\n"
          ],
          "name": "stdout"
        }
      ]
    },
    {
      "cell_type": "code",
      "metadata": {
        "colab": {
          "base_uri": "https://localhost:8080/",
          "height": 436
        },
        "id": "LZLQUQo1X5r1",
        "outputId": "176da6b9-2e61-4c58-a313-d137015d2dd5"
      },
      "source": [
        "hist(dataset$Ymiss)"
      ],
      "execution_count": 43,
      "outputs": [
        {
          "output_type": "display_data",
          "data": {
            "image/png": "[encoded data removed]",
            "text/plain": [
              "Plot with title “Histogram of dataset$Ymiss”"
            ]
          },
          "metadata": {
            "image/png": {
              "width": 420,
              "height": 420
            }
          }
        }
      ]
    },
    {
      "cell_type": "code",
      "metadata": {
        "id": "EGoaDKmjYNfJ"
      },
      "source": [
        "# Split the dataset\n",
        "notNull <- dataset[, 5:8]\n",
        "Null <- dataset[, 1:4]\n",
        "set.seed(123)\n",
        "s_size <- floor(0.66 * nrow(notNull))\n",
        "train_v <- sample(seq_len(nrow(notNull)), size = s_size)\n",
        "train <- notNull[train_v, ]\n",
        "test <- notNull[-train_v, ]"
      ],
      "execution_count": 69,
      "outputs": []
    },
    {
      "cell_type": "code",
      "metadata": {
        "colab": {
          "base_uri": "https://localhost:8080/",
          "height": 279
        },
        "id": "HRCgURp4Z4pu",
        "outputId": "3c99fa18-22cf-44ff-eeae-654c9aa224fc"
      },
      "source": [
        "head(train)"
      ],
      "execution_count": 70,
      "outputs": [
        {
          "output_type": "display_data",
          "data": {
            "text/plain": [
              "      region    gender marital  Ymiss\n",
              "51663 Gaza      Male   Single     NA \n",
              "57870 West bank Female Married    NA \n",
              "2986  Gaza      Male   Divorced 1654 \n",
              "29925 West bank Male   Married    NA \n",
              "95246 West bank Female Single   1932 \n",
              "68293 Gaza      Female Single     NA "
            ],
            "text/latex": "A data.frame: 6 × 4\n\\begin{tabular}{r|llll}\n  & region & gender & marital & Ymiss\\\\\n  & <chr> & <chr> & <chr> & <dbl>\\\\\n\\hline\n\t51663 & Gaza      & Male   & Single   &   NA\\\\\n\t57870 & West bank & Female & Married  &   NA\\\\\n\t2986 & Gaza      & Male   & Divorced & 1654\\\\\n\t29925 & West bank & Male   & Married  &   NA\\\\\n\t95246 & West bank & Female & Single   & 1932\\\\\n\t68293 & Gaza      & Female & Single   &   NA\\\\\n\\end{tabular}\n",
            "text/markdown": "\nA data.frame: 6 × 4\n\n| <!--/--> | region &lt;chr&gt; | gender &lt;chr&gt; | marital &lt;chr&gt; | Ymiss &lt;dbl&gt; |\n|---|---|---|---|---|\n| 51663 | Gaza      | Male   | Single   |   NA |\n| 57870 | West bank | Female | Married  |   NA |\n| 2986 | Gaza      | Male   | Divorced | 1654 |\n| 29925 | West bank | Male   | Married  |   NA |\n| 95246 | West bank | Female | Single   | 1932 |\n| 68293 | Gaza      | Female | Single   |   NA |\n\n",
            "text/html": [
              "<table class=\"dataframe\">\n",
              "<caption>A data.frame: 6 × 4</caption>\n",
              "<thead>\n",
              "\t<tr><th></th><th scope=col>region</th><th scope=col>gender</th><th scope=col>marital</th><th scope=col>Ymiss</th></tr>\n",
              "\t<tr><th></th><th scope=col>&lt;chr&gt;</th><th scope=col>&lt;chr&gt;</th><th scope=col>&lt;chr&gt;</th><th scope=col>&lt;dbl&gt;</th></tr>\n",
              "</thead>\n",
              "<tbody>\n",
              "\t<tr><th scope=row>51663</th><td>Gaza     </td><td>Male  </td><td>Single  </td><td>  NA</td></tr>\n",
              "\t<tr><th scope=row>57870</th><td>West bank</td><td>Female</td><td>Married </td><td>  NA</td></tr>\n",
              "\t<tr><th scope=row>2986</th><td>Gaza     </td><td>Male  </td><td>Divorced</td><td>1654</td></tr>\n",
              "\t<tr><th scope=row>29925</th><td>West bank</td><td>Male  </td><td>Married </td><td>  NA</td></tr>\n",
              "\t<tr><th scope=row>95246</th><td>West bank</td><td>Female</td><td>Single  </td><td>1932</td></tr>\n",
              "\t<tr><th scope=row>68293</th><td>Gaza     </td><td>Female</td><td>Single  </td><td>  NA</td></tr>\n",
              "</tbody>\n",
              "</table>\n"
            ]
          },
          "metadata": {}
        }
      ]
    },
    {
      "cell_type": "code",
      "metadata": {
        "colab": {
          "base_uri": "https://localhost:8080/"
        },
        "id": "XLu7w28gZUMi",
        "outputId": "31e7fb4c-c474-40a8-80e3-ea9667944886"
      },
      "source": [
        "# Model\n",
        "model_fit <- rpart(Ymiss ~., data = train, method = 'class')\n",
        "summary(model_fit)\n"
      ],
      "execution_count": 71,
      "outputs": [
        {
          "output_type": "stream",
          "text": [
            "Call:\n",
            "rpart(formula = Ymiss ~ ., data = train, method = \"class\")\n",
            "  n=17063 (48937 observations deleted due to missingness)\n",
            "\n",
            "           CP nsplit rel error xerror xstd\n",
            "1 0.000411571      0         1      0    0\n",
            "\n",
            "Node number 1: 17063 observations\n",
            "  predicted class=1868  expected loss=0.9967767  P(node) =1\n",
            "    class counts:    33    34    32    36    41    42    27    29    26    30    28    41    31    37    39    34    33    36    38    30    25    41    30    24    29    42    38    40    50    40    34    22    43    42    44    25    38    33    38    41    34    29    31    35    34    32    28    32    33    35    33    30    29    47    26    26    40    41    32    27    41    32    34    45    34    34    43    29    42    35    34    34    24    36    24    36    29    32    32    39    32    38    21    39    42    49    43    32    39    31    33    36    39    37    34    28    35    49    29    36    30    29    31    39    29    31    45    41    23    33    22    37    30    20    28    29    29    21    25    39    32    44    35    24    32    35    33    39    37    34    37    29    47    36    40    32    32    36    40    29    36    45    34    31    37    33    31    38    24    37    36    29    34    31    33    27    40    39    26    38    36    26    41    38    47    29    38    25    28    50    35    29    34    33    32    25    34    28    28    33    38    37    36    27    35    32    22    30    43    32    26    33    39    32    37    31    33    33    30    28    45    36    38    27    29    34    34    26    36    26    41    32    39    26    37    32    30    30    29    26    37    35    29    33    44    34    46    38    35    40    36    34    36    31    32    34    27    44    36    38    34    36    34    32    27    37    35    32    34    35    31    30    36    29    38    36    40    19    29    38    36    31    36    28    36    51    41    28    35    30    45    34    25    34    28    27    38    39    37    43    36    36    35    28    20    41    37    41    39    27    40    35    29    35    24    41    32    20    21    38    39    37    47    47    44    37    32    26    34    31    42    18    35    32    29    32    31    24    27    31    30    39    25    38    40    31    28    45    22    39    24    32    32    38    37    38    39    37    37    23    37    34    37    34    32    36    34    35    42    29    24    39    30    30    27    25    33    34    40    43    25    34    37    32    43    39    41    26    55    41    23    32    40    43    35    41    37    31    33    31    38    34    33    38    40    32    38    26    39    30    31    31    32    33    29    29    27    30    26    37    38    26    28    31    30    39    29    25    37    38    28    35    28    43    31    46    30    30    33    28    31    28    38    30    46    31    41    32    34    28    26    40    34    33    38    29    38    32    40    43    39    31    33    37    32    42    34    33    45    35    38    31    43    43    40    40    32    33    24    36    27    38    33    29    33    42    44    31    41    49    24    30    37    47    37    34    31    37    36    43    47    38    26    36    42    26    29    36    38    26    47    34    24    29    38    30    24    42    36    25    37\n",
            "   probabilities: 0.002 0.002 0.002 0.002 0.002 0.002 0.002 0.002 0.002 0.002 0.002 0.002 0.002 0.002 0.002 0.002 0.002 0.002 0.002 0.002 0.001 0.002 0.002 0.001 0.002 0.002 0.002 0.002 0.003 0.002 0.002 0.001 0.003 0.002 0.003 0.001 0.002 0.002 0.002 0.002 0.002 0.002 0.002 0.002 0.002 0.002 0.002 0.002 0.002 0.002 0.002 0.002 0.002 0.003 0.002 0.002 0.002 0.002 0.002 0.002 0.002 0.002 0.002 0.003 0.002 0.002 0.003 0.002 0.002 0.002 0.002 0.002 0.001 0.002 0.001 0.002 0.002 0.002 0.002 0.002 0.002 0.002 0.001 0.002 0.002 0.003 0.003 0.002 0.002 0.002 0.002 0.002 0.002 0.002 0.002 0.002 0.002 0.003 0.002 0.002 0.002 0.002 0.002 0.002 0.002 0.002 0.003 0.002 0.001 0.002 0.001 0.002 0.002 0.001 0.002 0.002 0.002 0.001 0.001 0.002 0.002 0.003 0.002 0.001 0.002 0.002 0.002 0.002 0.002 0.002 0.002 0.002 0.003 0.002 0.002 0.002 0.002 0.002 0.002 0.002 0.002 0.003 0.002 0.002 0.002 0.002 0.002 0.002 0.001 0.002 0.002 0.002 0.002 0.002 0.002 0.002 0.002 0.002 0.002 0.002 0.002 0.002 0.002 0.002 0.003 0.002 0.002 0.001 0.002 0.003 0.002 0.002 0.002 0.002 0.002 0.001 0.002 0.002 0.002 0.002 0.002 0.002 0.002 0.002 0.002 0.002 0.001 0.002 0.003 0.002 0.002 0.002 0.002 0.002 0.002 0.002 0.002 0.002 0.002 0.002 0.003 0.002 0.002 0.002 0.002 0.002 0.002 0.002 0.002 0.002 0.002 0.002 0.002 0.002 0.002 0.002 0.002 0.002 0.002 0.002 0.002 0.002 0.002 0.002 0.003 0.002 0.003 0.002 0.002 0.002 0.002 0.002 0.002 0.002 0.002 0.002 0.002 0.003 0.002 0.002 0.002 0.002 0.002 0.002 0.002 0.002 0.002 0.002 0.002 0.002 0.002 0.002 0.002 0.002 0.002 0.002 0.002 0.001 0.002 0.002 0.002 0.002 0.002 0.002 0.002 0.003 0.002 0.002 0.002 0.002 0.003 0.002 0.001 0.002 0.002 0.002 0.002 0.002 0.002 0.003 0.002 0.002 0.002 0.002 0.001 0.002 0.002 0.002 0.002 0.002 0.002 0.002 0.002 0.002 0.001 0.002 0.002 0.001 0.001 0.002 0.002 0.002 0.003 0.003 0.003 0.002 0.002 0.002 0.002 0.002 0.002 0.001 0.002 0.002 0.002 0.002 0.002 0.001 0.002 0.002 0.002 0.002 0.001 0.002 0.002 0.002 0.002 0.003 0.001 0.002 0.001 0.002 0.002 0.002 0.002 0.002 0.002 0.002 0.002 0.001 0.002 0.002 0.002 0.002 0.002 0.002 0.002 0.002 0.002 0.002 0.001 0.002 0.002 0.002 0.002 0.001 0.002 0.002 0.002 0.003 0.001 0.002 0.002 0.002 0.003 0.002 0.002 0.002 0.003 0.002 0.001 0.002 0.002 0.003 0.002 0.002 0.002 0.002 0.002 0.002 0.002 0.002 0.002 0.002 0.002 0.002 0.002 0.002 0.002 0.002 0.002 0.002 0.002 0.002 0.002 0.002 0.002 0.002 0.002 0.002 0.002 0.002 0.002 0.002 0.002 0.002 0.002 0.001 0.002 0.002 0.002 0.002 0.002 0.003 0.002 0.003 0.002 0.002 0.002 0.002 0.002 0.002 0.002 0.002 0.003 0.002 0.002 0.002 0.002 0.002 0.002 0.002 0.002 0.002 0.002 0.002 0.002 0.002 0.002 0.003 0.002 0.002 0.002 0.002 0.002 0.002 0.002 0.002 0.003 0.002 0.002 0.002 0.003 0.003 0.002 0.002 0.002 0.002 0.001 0.002 0.002 0.002 0.002 0.002 0.002 0.002 0.003 0.002 0.002 0.003 0.001 0.002 0.002 0.003 0.002 0.002 0.002 0.002 0.002 0.003 0.003 0.002 0.002 0.002 0.002 0.002 0.002 0.002 0.002 0.002 0.003 0.002 0.001 0.002 0.002 0.002 0.001 0.002 0.002 0.001 0.002 \n",
            "\n"
          ],
          "name": "stdout"
        }
      ]
    },
    {
      "cell_type": "code",
      "metadata": {
        "colab": {
          "base_uri": "https://localhost:8080/",
          "height": 436
        },
        "id": "FvSB829tej6E",
        "outputId": "9d2b8d5d-92a4-4f97-86bd-0923d5e3d2df"
      },
      "source": [
        "# Impute values of Ymiss\n",
        "val <- md.pattern(test)"
      ],
      "execution_count": 73,
      "outputs": [
        {
          "output_type": "display_data",
          "data": {
            "image/png": "[encoded data removed]",
            "text/plain": [
              "plot without title"
            ]
          },
          "metadata": {
            "image/png": {
              "width": 420,
              "height": 420
            }
          }
        }
      ]
    },
    {
      "cell_type": "code",
      "metadata": {
        "id": "gy4aS-mofqkj"
      },
      "source": [
        "#impute values complete case analysis\n",
        "impute <- mice(test, m=5, maxit = 100, method = 'pmm', seed = 1000)\n",
        "summary(impute)"
      ],
      "execution_count": null,
      "outputs": []
    },
    {
      "cell_type": "code",
      "metadata": {
        "id": "EZ5DLhckgo0f"
      },
      "source": [
        "head(impute)"
      ],
      "execution_count": null,
      "outputs": []
    },
    {
      "cell_type": "code",
      "metadata": {
        "colab": {
          "base_uri": "https://localhost:8080/",
          "height": 88
        },
        "id": "395ggH5PgId3",
        "outputId": "f37ca773-1868-4190-ed7e-ad385ec61b54"
      },
      "source": [
        "# compare and comple\n",
        "rmspe <- rmse(test$Ymiss, dataset$income)\n",
        "summary(rmspe)"
      ],
      "execution_count": 93,
      "outputs": [
        {
          "output_type": "stream",
          "text": [
            "Warning message in actual - predicted:\n",
            "“longer object length is not a multiple of shorter object length”\n"
          ],
          "name": "stderr"
        },
        {
          "output_type": "display_data",
          "data": {
            "text/plain": [
              "   Min. 1st Qu.  Median    Mean 3rd Qu.    Max.    NA's \n",
              "     NA      NA      NA     NaN      NA      NA       1 "
            ]
          },
          "metadata": {}
        }
      ]
    }
  ]
}